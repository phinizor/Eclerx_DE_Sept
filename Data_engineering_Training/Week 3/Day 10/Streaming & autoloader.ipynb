{
 "cells": [
  {
   "cell_type": "code",
   "execution_count": 0,
   "metadata": {
    "application/vnd.databricks.v1+cell": {
     "cellMetadata": {},
     "inputWidgets": {},
     "nuid": "8788e6ab-a082-468b-9772-c6b18997ee40",
     "showTitle": false,
     "tableResultSettingsMap": {},
     "title": ""
    }
   },
   "outputs": [],
   "source": [
    "# stream /real time data : data which grows over time(sec ,minutes,hours)\n",
    "\n",
    "# limitation of batch load - cannot work on streaming data. \n",
    "\n",
    "df = spark.read.csv(\"Path\")\n",
    "df.write.mode(append).saveAsTable(\"table\") - this will add the data in the table but at the same time it will read the previous file as well creatingt duplicates.\n",
    "\n",
    "# to solving this we use spark structured streaming \n",
    "\n",
    "# Structured streaming is a Spark API for processing unbounded data streams.\n",
    "\n",
    "df = spark.readStream.schema(user_schema).csv.option(\"header\",\"true\")\n",
    "df.writeStream.format(\"parquet\").option(\"checkpointLocation\",\"Path\").trigger(once = true).totable(\"Table_name\")"
   ]
  },
  {
   "cell_type": "markdown",
   "metadata": {
    "application/vnd.databricks.v1+cell": {
     "cellMetadata": {},
     "inputWidgets": {},
     "nuid": "41619931-a204-4892-b890-10a06b819363",
     "showTitle": false,
     "tableResultSettingsMap": {},
     "title": ""
    }
   },
   "source": [
    "Use case \n",
    "\n",
    "**Types of triggers**\n",
    "\n",
    "- by default it will trigger every 0.5 sec\n",
    "\n",
    "- trigger.(Processingtime= 1 minute).\n",
    "\n",
    "- Trigger.(once = true)\n",
    "\n"
   ]
  },
  {
   "cell_type": "markdown",
   "metadata": {
    "application/vnd.databricks.v1+cell": {
     "cellMetadata": {},
     "inputWidgets": {},
     "nuid": "d3e2991b-0f9c-4321-8bec-6817d8ee67b5",
     "showTitle": false,
     "tableResultSettingsMap": {},
     "title": ""
    }
   },
   "source": [
    "Autoloader : this can handle change in schema of the files add in the directory.this was not possible with Spark Structured streaming \n",
    "\n"
   ]
  }
 ],
 "metadata": {
  "application/vnd.databricks.v1+notebook": {
   "computePreferences": null,
   "dashboards": [],
   "environmentMetadata": {
    "base_environment": "",
    "environment_version": "3"
   },
   "inputWidgetPreferences": null,
   "language": "python",
   "notebookMetadata": {
    "pythonIndentUnit": 4
   },
   "notebookName": "Streaming & autoloader",
   "widgets": {}
  },
  "language_info": {
   "name": "python"
  }
 },
 "nbformat": 4,
 "nbformat_minor": 0
}
