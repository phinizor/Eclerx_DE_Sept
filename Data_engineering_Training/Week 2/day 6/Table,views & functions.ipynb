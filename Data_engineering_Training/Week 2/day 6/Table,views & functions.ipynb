{
 "cells": [
  {
   "cell_type": "markdown",
   "metadata": {
    "application/vnd.databricks.v1+cell": {
     "cellMetadata": {},
     "inputWidgets": {},
     "nuid": "3e749157-e050-4b6b-8acb-589a3e3e9fa2",
     "showTitle": false,
     "tableResultSettingsMap": {},
     "title": ""
    }
   },
   "source": [
    "# Types of tables\n",
    "\n",
    "## 1.Managed table - \n",
    "- synatx - select * from filetype.\"path\"/select * from readfiles(\"path\",format => \"filetype\")\n",
    "- stores in the default location of your database.\n",
    "- managed by databricks means if you drop the table everything gets deleted. cannot retrieve data.\n",
    "- also have to pay for compute everytime just to even see the table(but now databricks offers free access for 3rd party tools as well)\n",
    "## 2.External table -\n",
    "- syntax - select * from filetype.\"path\" location \"Path of the storage location\".\n",
    "- stores in the desire path location of your database.\n",
    "- managed by user means if you drop the table only the table in the catalog will be deleted get.But the table and    it's meta dat is stored and safe in the location path provided. \n",
    "- Doesn;t have to pay databricks for computing the data."
   ]
  },
  {
   "cell_type": "markdown",
   "metadata": {
    "application/vnd.databricks.v1+cell": {
     "cellMetadata": {},
     "inputWidgets": {},
     "nuid": "d5a53bd6-2d46-4309-9c0e-d435cd794068",
     "showTitle": false,
     "tableResultSettingsMap": {},
     "title": ""
    }
   },
   "source": [
    "# types of views.\n",
    "\n",
    "## standard view : \n",
    "persisted/saved in the catalog/doesn't have any storage only the view.\n",
    "\n",
    "## temporery view :\n",
    "Non - persisted/not saved in catalog/doesn't have any storage only the view."
   ]
  },
  {
   "cell_type": "markdown",
   "metadata": {
    "application/vnd.databricks.v1+cell": {
     "cellMetadata": {},
     "inputWidgets": {},
     "nuid": "9d1d9064-8b32-4a79-8f47-89c62d64e626",
     "showTitle": false,
     "tableResultSettingsMap": {},
     "title": ""
    }
   },
   "source": [
    "# User defined Fucntions\n",
    "\n",
    "create function function_name(datatype of inputs)\n",
    "returns datatype\n",
    "return logic"
   ]
  }
 ],
 "metadata": {
  "application/vnd.databricks.v1+notebook": {
   "computePreferences": null,
   "dashboards": [],
   "environmentMetadata": {
    "base_environment": "",
    "environment_version": "3"
   },
   "inputWidgetPreferences": null,
   "language": "sql",
   "notebookMetadata": {
    "pythonIndentUnit": 4
   },
   "notebookName": "Table,views & functions",
   "widgets": {}
  },
  "language_info": {
   "name": "sql"
  }
 },
 "nbformat": 4,
 "nbformat_minor": 0
}
