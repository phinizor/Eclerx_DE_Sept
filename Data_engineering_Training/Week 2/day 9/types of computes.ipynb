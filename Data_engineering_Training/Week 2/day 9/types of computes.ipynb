{
 "cells": [
  {
   "cell_type": "markdown",
   "metadata": {
    "application/vnd.databricks.v1+cell": {
     "cellMetadata": {},
     "inputWidgets": {},
     "nuid": "e57f5c67-7442-46ef-9c8e-a2acbdb7cd68",
     "showTitle": false,
     "tableResultSettingsMap": {},
     "title": ""
    }
   },
   "source": [
    "All four types of computes are avaliable in enterprise account and not in free edition.\n",
    "\n",
    "in free edition we only have severless & severless Sql computes"
   ]
  },
  {
   "cell_type": "markdown",
   "metadata": {
    "application/vnd.databricks.v1+cell": {
     "cellMetadata": {},
     "inputWidgets": {},
     "nuid": "1151d1e7-fb9d-4457-830a-b495b622eb78",
     "showTitle": false,
     "tableResultSettingsMap": {},
     "title": ""
    }
   },
   "source": [
    "Provided by databricks\n",
    "\n",
    "Serverless - startup cost - 1 $ per DBU(Data bricks units)\n",
    "\n",
    "Serverless SQL - startup cost - 0.7 $ per DBU(Data bricks units)\n",
    "\n",
    "Super fast - takes upto 5 sec to start."
   ]
  },
  {
   "cell_type": "markdown",
   "metadata": {
    "application/vnd.databricks.v1+cell": {
     "cellMetadata": {},
     "inputWidgets": {},
     "nuid": "3dda0a3d-95fd-44c3-9a44-2ac648a5e22f",
     "showTitle": false,
     "tableResultSettingsMap": {},
     "title": ""
    }
   },
   "source": [
    "Provided by cloud provider(Azure,GDC)\n",
    "\n",
    "All purpose compute :  we can interact and develop the job on this.\n",
    "\n",
    "job compute : will only run the job which is created and then it will get terminated(only used for orchestration)\n",
    "\n",
    "These types of computes are cheaper but takes longer time to start(about 5 mins)."
   ]
  }
 ],
 "metadata": {
  "application/vnd.databricks.v1+notebook": {
   "computePreferences": null,
   "dashboards": [],
   "environmentMetadata": {
    "base_environment": "",
    "environment_version": "3"
   },
   "inputWidgetPreferences": null,
   "language": "python",
   "notebookMetadata": {
    "pythonIndentUnit": 4
   },
   "notebookName": "types of computes",
   "widgets": {}
  },
  "language_info": {
   "name": "python"
  }
 },
 "nbformat": 4,
 "nbformat_minor": 0
}
