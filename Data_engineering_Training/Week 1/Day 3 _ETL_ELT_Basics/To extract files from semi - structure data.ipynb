{
 "cells": [
  {
   "cell_type": "code",
   "execution_count": 0,
   "metadata": {
    "application/vnd.databricks.v1+cell": {
     "cellMetadata": {},
     "inputWidgets": {},
     "nuid": "f5c2723f-bdc3-4402-afa4-e446252efe2a",
     "showTitle": false,
     "tableResultSettingsMap": {},
     "title": ""
    }
   },
   "outputs": [],
   "source": [
    "ways to create a table \n",
    "1. pyspark \n",
    "2. spark sql \n",
    "-- CTAS \n",
    "i. select * from file_format.`path` (single line json, parquet, delta, iceberg) \n",
    "ii. select * from read_files(\"path\",format=>\"csv\") (single line json, parquet, delta, iceberg, csv, multi line json, xml) \n",
    "3. ui (limitations) "
   ]
  },
  {
   "cell_type": "code",
   "execution_count": 0,
   "metadata": {
    "application/vnd.databricks.v1+cell": {
     "cellMetadata": {
      "byteLimit": 2048000,
      "implicitDf": true,
      "rowLimit": 10000
     },
     "collapsed": true,
     "inputWidgets": {},
     "nuid": "5af22168-91c9-4e73-a9b2-5170461bac3f",
     "showTitle": false,
     "tableResultSettingsMap": {},
     "title": ""
    }
   },
   "outputs": [],
   "source": [
    "%sql\n",
    "create or replace table dev.demo.Driver_Details as\n",
    "select * from json.`/Volumes/dev/demo/raw/Datasets/drivers.json`;\n",
    "\n",
    "select * from dev.demo.Driver_Details\n"
   ]
  },
  {
   "cell_type": "code",
   "execution_count": 0,
   "metadata": {
    "application/vnd.databricks.v1+cell": {
     "cellMetadata": {
      "byteLimit": 2048000,
      "implicitDf": true,
      "rowLimit": 10000
     },
     "collapsed": true,
     "inputWidgets": {},
     "nuid": "73770308-09eb-4161-ba28-26e45fff1761",
     "showTitle": false,
     "tableResultSettingsMap": {},
     "title": ""
    }
   },
   "outputs": [],
   "source": [
    "%sql\n",
    "CREATE  or REPLACE TABLE dev.demo.customer_details as\n",
    "select * from read_files(\"/Volumes/dev/demo/raw/Datasets/part-00000-4ece8039-e05f-4114-8262-9d82c9ee1e62-c000.snappy.parquet\",format=>\"parquet\");\n",
    "\n",
    "select * from dev.demo.customer_details\n",
    "\n"
   ]
  },
  {
   "cell_type": "code",
   "execution_count": 0,
   "metadata": {
    "application/vnd.databricks.v1+cell": {
     "cellMetadata": {
      "byteLimit": 2048000,
      "rowLimit": 10000
     },
     "collapsed": true,
     "inputWidgets": {},
     "nuid": "cedf6e21-2992-4d4d-a080-edec72f2af43",
     "showTitle": false,
     "tableResultSettingsMap": {},
     "title": ""
    }
   },
   "outputs": [],
   "source": [
    "# Pyspark\n",
    "# concept of lazy evaluation\n",
    "# Transformation :\n",
    "df = spark.read.csv('/Volumes/dev/demo/raw/CSV files/Ecommerce_dataset (1).csv', header=True, inferSchema=True)\n",
    "# Action:\n",
    "df.display()\n",
    "\n"
   ]
  },
  {
   "cell_type": "code",
   "execution_count": 0,
   "metadata": {
    "application/vnd.databricks.v1+cell": {
     "cellMetadata": {
      "byteLimit": 2048000,
      "rowLimit": 10000
     },
     "inputWidgets": {},
     "nuid": "d4141161-2c9a-4dbf-8a9b-ef49765a5d3e",
     "showTitle": false,
     "tableResultSettingsMap": {},
     "title": ""
    }
   },
   "outputs": [],
   "source": [
    "# Saves the table in the schema\n",
    "df.write.saveAsTable(\"dev.demo.financial_pyspark_2\") \n"
   ]
  },
  {
   "cell_type": "code",
   "execution_count": 0,
   "metadata": {
    "application/vnd.databricks.v1+cell": {
     "cellMetadata": {
      "byteLimit": 2048000,
      "rowLimit": 10000
     },
     "inputWidgets": {},
     "nuid": "1305dd42-50e7-46a5-8de9-9ba8cfb540f2",
     "showTitle": false,
     "tableResultSettingsMap": {},
     "title": ""
    }
   },
   "outputs": [],
   "source": [
    "# to replace the exisiting table\n",
    "df.write.mode(\"overwrite\").saveAsTable(\"dev.demo.financial_pyspark_2_OR\") "
   ]
  },
  {
   "cell_type": "code",
   "execution_count": 0,
   "metadata": {
    "application/vnd.databricks.v1+cell": {
     "cellMetadata": {
      "byteLimit": 2048000,
      "rowLimit": 10000
     },
     "inputWidgets": {},
     "nuid": "b701d912-009e-4193-85a6-b7c72a1484f7",
     "showTitle": false,
     "tableResultSettingsMap": {},
     "title": ""
    }
   },
   "outputs": [],
   "source": [
    "df = spark.read.parquet('/Volumes/dev/demo/raw/Datasets/part-00000-4ece8039-e05f-4114-8262-9d82c9ee1e62-c000.snappy.parquet')\n",
    "\n",
    "df.display()\n",
    "\n"
   ]
  },
  {
   "cell_type": "code",
   "execution_count": 0,
   "metadata": {
    "application/vnd.databricks.v1+cell": {
     "cellMetadata": {
      "byteLimit": 2048000,
      "rowLimit": 10000
     },
     "inputWidgets": {},
     "nuid": "a674769f-7afb-40ff-a266-dce0c2894576",
     "showTitle": false,
     "tableResultSettingsMap": {},
     "title": ""
    }
   },
   "outputs": [],
   "source": [
    "df.write.saveAsTable(\"dev.demo.financial_parquet\")\n"
   ]
  },
  {
   "cell_type": "code",
   "execution_count": 0,
   "metadata": {
    "application/vnd.databricks.v1+cell": {
     "cellMetadata": {
      "byteLimit": 2048000,
      "implicitDf": true,
      "rowLimit": 10000
     },
     "inputWidgets": {},
     "nuid": "077b7419-c501-43be-a14e-a390de99da80",
     "showTitle": false,
     "tableResultSettingsMap": {},
     "title": ""
    }
   },
   "outputs": [],
   "source": [
    "%sql\n",
    "select * from dev.demo.financial_parquet"
   ]
  }
 ],
 "metadata": {
  "application/vnd.databricks.v1+notebook": {
   "computePreferences": {
    "hardware": {
     "accelerator": null,
     "gpuPoolId": null,
     "memory": null
    }
   },
   "dashboards": [],
   "environmentMetadata": {
    "base_environment": "",
    "environment_version": "3"
   },
   "inputWidgetPreferences": null,
   "language": "python",
   "notebookMetadata": {
    "mostRecentlyExecutedCommandWithImplicitDF": {
     "commandId": 4746479302511437,
     "dataframes": [
      "_sqldf"
     ]
    },
    "pythonIndentUnit": 4
   },
   "notebookName": "To extract files from semi - structure data",
   "widgets": {}
  },
  "language_info": {
   "name": "python"
  }
 },
 "nbformat": 4,
 "nbformat_minor": 0
}
