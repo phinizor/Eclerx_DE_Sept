{
 "cells": [
  {
   "cell_type": "markdown",
   "metadata": {
    "application/vnd.databricks.v1+cell": {
     "cellMetadata": {},
     "inputWidgets": {},
     "nuid": "ed9ebeaf-5023-4a6f-b0b6-398426f7e4f9",
     "showTitle": false,
     "tableResultSettingsMap": {},
     "title": ""
    }
   },
   "source": [
    "Elements of `Delta`\n",
    "1.Parquet files(these files cannot be change once created(non - mutable).Hence for every transaction new file is generated in this)\n",
    "+\n",
    "2.delta log\n",
    "- a.crc file\n",
    "- b.json file\n",
    "- c.check points - after few crc and json files this gets created and after few days the json and crc files above this gets delete automatically and wil be saved in these check points.\n",
    "Notes : We can see these on our enterpise accounts or on our own external database account like(Microsoft Azure)"
   ]
  },
  {
   "cell_type": "code",
   "execution_count": 0,
   "metadata": {
    "application/vnd.databricks.v1+cell": {
     "cellMetadata": {
      "byteLimit": 2048000,
      "rowLimit": 10000
     },
     "collapsed": true,
     "inputWidgets": {},
     "nuid": "1be9f862-c773-49ef-b093-59a090f8d8eb",
     "showTitle": false,
     "tableResultSettingsMap": {},
     "title": ""
    }
   },
   "outputs": [],
   "source": [
    "create or replace table dev.demo.Max(id int,name string); \n",
    "insert into dev.demo.Max values(1,'abc'),(2,'def'),(3,'ghi')"
   ]
  },
  {
   "cell_type": "code",
   "execution_count": 0,
   "metadata": {
    "application/vnd.databricks.v1+cell": {
     "cellMetadata": {
      "byteLimit": 2048000,
      "rowLimit": 10000
     },
     "collapsed": true,
     "inputWidgets": {},
     "nuid": "0364e637-db5a-4732-a41f-7ce0c8df4e8e",
     "showTitle": false,
     "tableResultSettingsMap": {},
     "title": ""
    }
   },
   "outputs": [],
   "source": [
    "describe dev.demo.max"
   ]
  },
  {
   "cell_type": "code",
   "execution_count": 0,
   "metadata": {
    "application/vnd.databricks.v1+cell": {
     "cellMetadata": {
      "byteLimit": 2048000,
      "rowLimit": 10000
     },
     "collapsed": true,
     "inputWidgets": {},
     "nuid": "7b7581b1-3fe1-4d1d-8edd-4cc01a7e6601",
     "showTitle": false,
     "tableResultSettingsMap": {},
     "title": ""
    }
   },
   "outputs": [],
   "source": [
    "describe extended dev.demo.max"
   ]
  },
  {
   "cell_type": "code",
   "execution_count": 0,
   "metadata": {
    "application/vnd.databricks.v1+cell": {
     "cellMetadata": {
      "byteLimit": 2048000,
      "rowLimit": 10000
     },
     "collapsed": true,
     "inputWidgets": {},
     "nuid": "786e6ce8-185c-45e1-a393-f7ae2aa7c706",
     "showTitle": false,
     "tableResultSettingsMap": {},
     "title": ""
    }
   },
   "outputs": [],
   "source": [
    "describe detail dev.demo.max"
   ]
  },
  {
   "cell_type": "code",
   "execution_count": 0,
   "metadata": {
    "application/vnd.databricks.v1+cell": {
     "cellMetadata": {
      "byteLimit": 2048000,
      "rowLimit": 10000
     },
     "collapsed": true,
     "inputWidgets": {},
     "nuid": "b93b3f78-cd38-4248-847e-6939760415b2",
     "showTitle": false,
     "tableResultSettingsMap": {},
     "title": ""
    }
   },
   "outputs": [],
   "source": [
    "describe history dev.demo.max"
   ]
  },
  {
   "cell_type": "markdown",
   "metadata": {
    "application/vnd.databricks.v1+cell": {
     "cellMetadata": {},
     "inputWidgets": {},
     "nuid": "6f94c361-51c1-4d53-9a77-965d12904f0b",
     "showTitle": false,
     "tableResultSettingsMap": {},
     "title": ""
    }
   },
   "source": [
    "# **Query optimization.**\n",
    "\n",
    "**use case**\n",
    "\n",
    "Parquet files - these files cannot be change once created(non - mutable).Hence for every transaction new file is generated in this which are very small files.Hence query optimization is need for better query performance.this also called **small files issue** \n",
    "\n",
    "**use query**\n",
    "\n",
    "Optimize(table name)\n",
    "zorder by(column_name)"
   ]
  },
  {
   "cell_type": "markdown",
   "metadata": {
    "application/vnd.databricks.v1+cell": {
     "cellMetadata": {},
     "inputWidgets": {},
     "nuid": "bc48e2c1-331e-4039-938f-f9622862c84c",
     "showTitle": false,
     "tableResultSettingsMap": {},
     "title": ""
    }
   },
   "source": [
    "# Reducing storage cost\n",
    "\n",
    "**use command**\n",
    " vacuum(table_name) - \n",
    "-  This deletes unused files from storage resulting **No time travel** after this.\n",
    "- Even after creating vacuum in storage.we still have atleat 7 days or 168 hrs of retention period where we can retain the data.but if you want to delete all unused files right away.we can do that by setting the retention period to 0.Thus reducing the storage cost.\n",
    "- you can delete all unused commands immediately by using\n",
    "  vacuum(table_name) retain 0 hours - also you can increase the rentation period by more the 168 hours\n",
    "- few limitations on above action(vacuum(table_name) retain 0 hours) - while  using the retain to 0 on severless compute.we have to alter the table properties and then need to run the command.\n",
    "\n"
   ]
  }
 ],
 "metadata": {
  "application/vnd.databricks.v1+notebook": {
   "computePreferences": null,
   "dashboards": [],
   "environmentMetadata": {
    "base_environment": "",
    "environment_version": "3"
   },
   "inputWidgetPreferences": null,
   "language": "sql",
   "notebookMetadata": {
    "pythonIndentUnit": 4
   },
   "notebookName": "Internals of delta",
   "widgets": {}
  },
  "language_info": {
   "name": "sql"
  }
 },
 "nbformat": 4,
 "nbformat_minor": 0
}
