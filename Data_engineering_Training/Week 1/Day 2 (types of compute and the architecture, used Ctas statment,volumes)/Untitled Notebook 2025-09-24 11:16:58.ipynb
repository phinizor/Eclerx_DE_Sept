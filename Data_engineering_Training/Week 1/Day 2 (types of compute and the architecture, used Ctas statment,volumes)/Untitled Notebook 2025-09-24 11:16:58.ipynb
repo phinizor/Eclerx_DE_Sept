{
 "cells": [
  {
   "cell_type": "code",
   "execution_count": 0,
   "metadata": {
    "application/vnd.databricks.v1+cell": {
     "cellMetadata": {
      "byteLimit": 2048000,
      "implicitDf": true,
      "rowLimit": 10000
     },
     "collapsed": true,
     "inputWidgets": {},
     "nuid": "093684ff-1872-4803-9c01-d58a552fc8b6",
     "showTitle": false,
     "tableResultSettingsMap": {},
     "title": ""
    }
   },
   "outputs": [],
   "source": [
    "%sql\n",
    "\n",
    "create table if not exists samples(id int, name string);\n",
    "\n",
    "insert into samples values(1,'paresh');\n",
    "\n",
    "select * from samples;"
   ]
  },
  {
   "cell_type": "code",
   "execution_count": 0,
   "metadata": {
    "application/vnd.databricks.v1+cell": {
     "cellMetadata": {
      "byteLimit": 2048000,
      "rowLimit": 10000
     },
     "collapsed": true,
     "inputWidgets": {},
     "nuid": "7e26a505-8613-4705-bc76-c48f55b75a5c",
     "showTitle": false,
     "tableResultSettingsMap": {
      "0": {
       "dataGridStateBlob": "{\"version\":1,\"tableState\":{\"columnPinning\":{\"left\":[\"#row_number#\"],\"right\":[]},\"columnSizing\":{},\"columnVisibility\":{\"#row_number#\":true,\"customerID\":true,\"first_name\":true,\"last_name\":false,\"email_address\":false,\"phone_number\":false,\"address\":false,\"city\":false,\"state\":false,\"country\":true,\"continent\":false,\"postal_zip_code\":false,\"gender\":false}},\"settings\":{\"columns\":{}},\"syncTimestamp\":1758694193769}",
       "filterBlob": null,
       "queryPlanFiltersBlob": null,
       "tableResultIndex": 0
      }
     },
     "title": ""
    }
   },
   "outputs": [],
   "source": [
    "%sql\n",
    "\n",
    "create table if not exists dev.demo.Sales as\n",
    "select * from samples.bakehouse.sales_customers;\n",
    "\n",
    "select * from dev.demo.Sales\n"
   ]
  }
 ],
 "metadata": {
  "application/vnd.databricks.v1+notebook": {
   "computePreferences": {
    "hardware": {
     "accelerator": null,
     "gpuPoolId": null,
     "memory": null
    }
   },
   "dashboards": [],
   "environmentMetadata": {
    "base_environment": "",
    "environment_version": "3"
   },
   "inputWidgetPreferences": null,
   "language": "sql",
   "notebookMetadata": {
    "mostRecentlyExecutedCommandWithImplicitDF": {
     "commandId": -1,
     "dataframes": [
      "_sqldf"
     ]
    },
    "pythonIndentUnit": 4
   },
   "notebookName": "Untitled Notebook 2025-09-24 11:16:58",
   "widgets": {}
  },
  "language_info": {
   "name": "sql"
  }
 },
 "nbformat": 4,
 "nbformat_minor": 0
}
